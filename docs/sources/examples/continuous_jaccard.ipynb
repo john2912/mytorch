{
 "cells": [
  {
   "cell_type": "markdown",
   "metadata": {},
   "source": [
    "# Continuous Jaccard Distance for PyTorch"
   ]
  },
  {
   "cell_type": "code",
   "execution_count": 5,
   "metadata": {},
   "outputs": [],
   "source": [
    "from mytorch.losses import continuous_jaccard"
   ]
  },
  {
   "cell_type": "markdown",
   "metadata": {},
   "source": [
    "## Concept"
   ]
  },
  {
   "cell_type": "markdown",
   "metadata": {},
   "source": [
    "Implementation of the continuous version of the Jaccard Index/Distance. I.e., given 2 vectors, $x$ and $y$:\n",
    "\n",
    "$$\n",
    "J(x, y) = 1 - \\frac{\\sum_i \\min(x_i, y_i)}{\\sum_i \\max(x_i, y_i)}.\n",
    "$$\n",
    "\n",
    "\n",
    "### References\n",
    "\n",
    "\n",
    "- [1] https://en.wikipedia.org/wiki/Jaccard_index"
   ]
  },
  {
   "cell_type": "markdown",
   "metadata": {},
   "source": [
    "## Example 1"
   ]
  },
  {
   "cell_type": "code",
   "execution_count": 1,
   "metadata": {},
   "outputs": [
    {
     "data": {
      "text/plain": [
       "tensor(0.6275)"
      ]
     },
     "execution_count": 1,
     "metadata": {},
     "output_type": "execute_result"
    }
   ],
   "source": [
    "import torch\n",
    "from mytorch.losses import continuous_jaccard\n",
    "\n",
    "\n",
    "\n",
    "import torch\n",
    "\n",
    "x = torch.tensor([7, 2, 3, 4, 5, 6]).float()\n",
    "y = torch.tensor([1, 8, 9, 10, 11, 4]).float()\n",
    "\n",
    "continuous_jaccard(x, y)"
   ]
  }
 ],
 "metadata": {
  "kernelspec": {
   "display_name": "Python 3",
   "language": "python",
   "name": "python3"
  },
  "language_info": {
   "codemirror_mode": {
    "name": "ipython",
    "version": 3
   },
   "file_extension": ".py",
   "mimetype": "text/x-python",
   "name": "python",
   "nbconvert_exporter": "python",
   "pygments_lexer": "ipython3",
   "version": "3.6.5"
  }
 },
 "nbformat": 4,
 "nbformat_minor": 2
}
